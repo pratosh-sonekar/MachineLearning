{
 "cells": [
  {
   "cell_type": "code",
   "execution_count": 1,
   "id": "e8cbbcc9",
   "metadata": {},
   "outputs": [
    {
     "name": "stdout",
     "output_type": "stream",
     "text": [
      "Cluster Centers: [[0.22645397 0.71840176]\n",
      " [0.52083891 0.18668653]\n",
      " [0.76252289 0.60239021]]\n",
      "Cluster Membership: [2 2 0 0 2 2 2 1 0 2 2 0 0 0 1 0 0 0 2 2 1 1 2 1 1 2 1 1 1 1 1 1 0 1 1 2 2\n",
      " 1 1 1 1 0 1 1 2 0 0 1 1 1 1 2 0 2 0 0 1 2 2 2 2 2 0 0 1 2 1 2 2 2 2 0 2 0\n",
      " 2 0 0 0 2 1 2 2 2 0 1 1 1 1 0 1 0 1 2 2 1 1 0 2 1 0]\n"
     ]
    }
   ],
   "source": [
    "import numpy as np\n",
    "import skfuzzy as fuzz\n",
    "from skfuzzy import control as ctrl\n",
    "\n",
    "# Generate some example data\n",
    "np.random.seed(0)\n",
    "data = np.random.rand(100, 2)\n",
    "\n",
    "# Define the number of clusters\n",
    "n_clusters = 3\n",
    "\n",
    "# Apply fuzzy c-means clustering\n",
    "cntr, u, u0, d, jm, p, fpc = fuzz.cluster.cmeans(\n",
    "\tdata.T, n_clusters, 2, error=0.005, maxiter=1000, init=None\n",
    ")\n",
    "\n",
    "# Predict cluster membership for each data point\n",
    "cluster_membership = np.argmax(u, axis=0)\n",
    "\n",
    "# Print the cluster centers\n",
    "print('Cluster Centers:', cntr)\n",
    "\n",
    "# Print the cluster membership for each data point\n",
    "print('Cluster Membership:', cluster_membership)"
   ]
  },
  {
   "cell_type": "code",
   "execution_count": null,
   "id": "900cc80e",
   "metadata": {},
   "outputs": [],
   "source": []
  }
 ],
 "metadata": {
  "kernelspec": {
   "display_name": "Python 3 (ipykernel)",
   "language": "python",
   "name": "python3"
  },
  "language_info": {
   "codemirror_mode": {
    "name": "ipython",
    "version": 3
   },
   "file_extension": ".py",
   "mimetype": "text/x-python",
   "name": "python",
   "nbconvert_exporter": "python",
   "pygments_lexer": "ipython3",
   "version": "3.10.9"
  }
 },
 "nbformat": 4,
 "nbformat_minor": 5
}
